{
 "cells": [
  {
   "cell_type": "markdown",
   "metadata": {},
   "source": [
    "## Fibonacci numbers example\n",
    "\n",
    "Computing the solution to the recurrence\n",
    "\n",
    "$$F_n = F_{n-1} + F_{n-2}, \\quad F_0 = F_1 = 1.$$\n",
    "\n",
    "Run this notebook all at once or one cell at a time."
   ]
  },
  {
   "cell_type": "code",
   "execution_count": 11,
   "metadata": {},
   "outputs": [],
   "source": [
    "def fibonacci(n):\n",
    "    '''Computes F_0, F_1, ...,x F_n'''\n",
    "    seq = [0]*n\n",
    "    seq[0] = 1\n",
    "    seq[1] = 1\n",
    "\n",
    "    for j in range(2, n):\n",
    "        seq[j] = seq[j-1] + seq[j-2]\n",
    "\n",
    "    return seq"
   ]
  },
  {
   "cell_type": "code",
   "execution_count": 14,
   "metadata": {},
   "outputs": [
    {
     "name": "stdout",
     "output_type": "stream",
     "text": [
      "[1, 1, 2, 3, 5, 8, 13, 21, 34, 55]\n",
      "F_10 = 55\n"
     ]
    }
   ],
   "source": [
    "N = 10\n",
    "fib = fibonacci(N)\n",
    "print(fib)\n",
    "print(f'F_{N} = {fib[N-1]}') #requires Python >= 3.6"
   ]
  }
 ],
 "metadata": {
  "kernelspec": {
   "display_name": "Python 3",
   "language": "python",
   "name": "python3"
  },
  "language_info": {
   "codemirror_mode": {
    "name": "ipython",
    "version": 3
   },
   "file_extension": ".py",
   "mimetype": "text/x-python",
   "name": "python",
   "nbconvert_exporter": "python",
   "pygments_lexer": "ipython3",
   "version": "3.7.7"
  }
 },
 "nbformat": 4,
 "nbformat_minor": 4
}
