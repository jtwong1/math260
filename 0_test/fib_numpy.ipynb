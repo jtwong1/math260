{
 "cells": [
  {
   "cell_type": "markdown",
   "metadata": {},
   "source": [
    "## Fibonacci numbers example\n",
    "\n",
    "Computing the solution to the recurrence\n",
    "\n",
    "$$F_n = F_{n-1} + F_{n-2}, \\quad F_0 = F_1 = 1.$$\n",
    "\n",
    "Uses numpy to plot $F_n$ vs. $n$ and the approximatiom $F_n \\sim \\phi^{n+1}/\\sqrt{5}$ where $\\phi = (1+\\sqrt{5})/2$ is the golden ratio.\n",
    "\n",
    "Run this notebook all at once or one cell at a time."
   ]
  },
  {
   "cell_type": "code",
   "execution_count": 21,
   "metadata": {},
   "outputs": [],
   "source": [
    "import numpy as np\n",
    "import matplotlib.pyplot as plt\n",
    "\n",
    "def fibonacci(n):\n",
    "    '''Computes F_0, F_1, ...,x F_n'''\n",
    "    seq = [0]*n\n",
    "    seq[0] = 1\n",
    "    seq[1] = 1\n",
    "\n",
    "    for j in range(2, n):\n",
    "        seq[j] = seq[j-1] + seq[j-2]\n",
    "\n",
    "    return seq\n",
    "\n",
    "def approx(n): # accurate for large enough n\n",
    "    coeff = 0.5*(1 + 1/np.sqrt(5))\n",
    "    coeff = 1/np.sqrt(5)\n",
    "    phi = 0.5*(1 + np.sqrt(5))\n",
    "    return [coeff*np.power(phi,k+1) for k in range(n)]"
   ]
  },
  {
   "cell_type": "code",
   "execution_count": 22,
   "metadata": {},
   "outputs": [
    {
     "name": "stdout",
     "output_type": "stream",
     "text": [
      "F_10 = 55\n"
     ]
    },
    {
     "data": {
      "image/png": "[encoded data removed]",
      "text/plain": [
       "<Figure size 432x288 with 1 Axes>"
      ]
     },
     "metadata": {
      "needs_background": "light"
     },
     "output_type": "display_data"
    }
   ],
   "source": [
    "N = 10\n",
    "fib = fibonacci(N)\n",
    "app = approx(N)\n",
    "print(f'F_{N} = {fib[N-1]}')\n",
    "\n",
    "plt.figure()\n",
    "plt.plot(range(N), fib, '.k', range(N), app, '--r')\n",
    "plt.xlabel('$n$');"
   ]
  }
 ],
 "metadata": {
  "kernelspec": {
   "display_name": "Python 3",
   "language": "python",
   "name": "python3"
  },
  "language_info": {
   "codemirror_mode": {
    "name": "ipython",
    "version": 3
   },
   "file_extension": ".py",
   "mimetype": "text/x-python",
   "name": "python",
   "nbconvert_exporter": "python",
   "pygments_lexer": "ipython3",
   "version": "3.7.7"
  }
 },
 "nbformat": 4,
 "nbformat_minor": 4
}
