{
 "cells": [
  {
   "cell_type": "markdown",
   "metadata": {},
   "source": [
    "### Introduction\n",
    "\n",
    "*Using this guide*: Run each cell one by one. You will need to run the first cell (with imports) to make it work. You may want to play around with the examples by editing the cells.\n",
    "\n",
    "numpy is the numerical mathematics package for python. For installation notes, see the Getting Started guide.\n",
    "\n",
    "Along with numpy, we will also use scipy (the scientific computing package built on numpy) and matplotlib.pyplot (a plotting tool).\n",
    "\n",
    "numpy provides convenient tools for scientific computing applications in python. By making use of its features, you can greatly streamline your code, plus take advantage of its (reasonably efficient) algorithms.\n",
    "\n",
    "Here's a short introduction. For much more, see https://www.scipy.org/getting-started.html (use it to look up what you need).\n",
    "\n",
    "Matlab users: good news! numpy syntax mimics matlab syntax, so you will find many of the constructions familiar."
   ]
  },
  {
   "cell_type": "code",
   "execution_count": 2,
   "metadata": {},
   "outputs": [],
   "source": [
    "# essential imports and the typical short names\n",
    "import numpy as np\n",
    "import matplotlib.pyplot as plt"
   ]
  },
  {
   "cell_type": "markdown",
   "metadata": {},
   "source": [
    "### Data types\n",
    "Numpy introduces a `numeric array' type that improves python lists for use with numbers.\n",
    "\n",
    "The array type can have any number of dimensions, and is good for storing elements of matrices.\n",
    "\n",
    "There are also other specialized classes like the matrix class, which is like a 2d array but with more features.\n",
    "(Usually a 2d array is enough)"
   ]
  },
  {
   "cell_type": "code",
   "execution_count": 40,
   "metadata": {},
   "outputs": [
    {
     "name": "stdout",
     "output_type": "stream",
     "text": [
      "[1 2 3]\n",
      "[[1 2]\n",
      " [3 4]]\n",
      "0.5\n"
     ]
    }
   ],
   "source": [
    "a = np.zeros(5) # all zeros, 5 elements\n",
    "x = np.array([1,2,3]) #convert from list\n",
    "y = list(x) #...or convert back to list\n",
    "print(x)\n",
    "\n",
    "z = np.zeros([3,3]) #3x3 zero array\n",
    "z1 = np.array([[1,2],[3,4]]) #2x2 matrix\\\n",
    "z2 = np.matrix([[1,2],[3,4]]) \n",
    "print(z1)\n",
    "\n",
    "w = np.linspace(0,2,101) \n",
    "#^101 equally spaced points from 0 to 2\n",
    "print(w[25])"
   ]
  },
  {
   "cell_type": "markdown",
   "metadata": {},
   "source": [
    "**Vectorization**: Arithmetic with np.arrays is `vectorized', which means that operations that make sense with arrays\n",
    "are done element-wise.\n",
    "\n",
    "Vectorized math allows for extremely concise code!"
   ]
  },
  {
   "cell_type": "code",
   "execution_count": 17,
   "metadata": {},
   "outputs": [
    {
     "name": "stdout",
     "output_type": "stream",
     "text": [
      "[ 9 12 15]\n",
      "[[2. 2.]\n",
      " [3. 5.]]\n"
     ]
    }
   ],
   "source": [
    "x = np.array([1,2,3])\n",
    "y = np.array([4,5,6])\n",
    "z = x + 2*y\n",
    "print(z)\n",
    "\n",
    "print(x + 1) \n",
    "# numpy deduces that you mean `add 1 to each element of z'\n",
    "# for much more: see `Broadcasting rules'\n",
    "\n",
    "m1 = np.array([[1,2],[3,4]])\n",
    "m2 = np.eye(2) #2x2 identity matrix\n",
    "print(m1 + m2)"
   ]
  },
  {
   "cell_type": "markdown",
   "metadata": {},
   "source": [
    "### functions\n",
    "\n",
    "Numpy has a library of mathematical functions. \n",
    "Use these over the bulit-in ones for python (in math), as the numpy variants tend to be as good or improved.\n",
    "\n",
    "Moreover, most of them are vectorized, so they apply \n",
    "element-wise over numpy arrays. Thus you can write most\n",
    "straightforward mathematical expressions in math-like syntax for numpy arrays.\n",
    "\n",
    "If you need a math function, check if numpy has it!\n",
    "(some of the fancier ones are in scipy, e.g. elliptic functions)"
   ]
  },
  {
   "cell_type": "code",
   "execution_count": 38,
   "metadata": {},
   "outputs": [
    {
     "name": "stdout",
     "output_type": "stream",
     "text": [
      "1.0\n"
     ]
    }
   ],
   "source": [
    "print(np.log(np.e))\n",
    "\n",
    "x = np.linspace(0,np.pi,11)\n",
    "y = np.sin(x) #y[k] is sin(x[k])\n",
    "\n",
    "z = 1 + np.exp(2*x)*np.sin(x) # 1 + e^(2x)*sin(x)"
   ]
  },
  {
   "cell_type": "markdown",
   "metadata": {},
   "source": [
    "### Basic plotting with pyplot\n",
    "\n",
    "Using pyplot is mostly straightforward; you may want to read the introduction at https://matplotlib.org/tutorials/introductory/pyplot.html.\n",
    "\n",
    "If you want some plot feature, check the documentation / search around to see if it exists (it probably does).\n",
    "\n",
    "Plotting syntax is very similar to Matlab.\n",
    "\n"
   ]
  },
  {
   "cell_type": "code",
   "execution_count": 59,
   "metadata": {},
   "outputs": [
    {
     "data": {
      "image/png": "[encoded data removed]",
      "text/plain": [
       "<Figure size 432x288 with 1 Axes>"
      ]
     },
     "metadata": {
      "needs_background": "light"
     },
     "output_type": "display_data"
    }
   ],
   "source": [
    "# plot sin(pi*x) over [0,2]\n",
    "x = np.linspace(0, 2, 101)\n",
    "y = np.sin(np.pi*x)\n",
    "\n",
    "plt.figure(1) #creates figure 1 (each figure is separate)\n",
    "plt.plot(x, y, '-k') #plot with a black solid line\n",
    "plt.xlabel('x')\n",
    "plt.ylabel('$\\sin x$') #tex works in labels!\n",
    "plt.title('a plot')\n",
    "plt.show() # show the plot; *not needed in jupyter*"
   ]
  },
  {
   "cell_type": "code",
   "execution_count": 58,
   "metadata": {},
   "outputs": [
    {
     "data": {
      "image/png": "[encoded data removed]",
      "text/plain": [
       "<Figure size 432x288 with 1 Axes>"
      ]
     },
     "metadata": {
      "needs_background": "light"
     },
     "output_type": "display_data"
    }
   ],
   "source": [
    "# plot sin(pi*x) over [0,2] with log y-axis\n",
    "x = np.linspace(0, 2, 101)\n",
    "y = np.exp(-5*x**2)\n",
    "\n",
    "plt.figure(1) #creates figure 1 (each figure is separate)\n",
    "plt.semilogy(x, y, '-k') #plot with a black solid line\n",
    "plt.xlabel('x')\n",
    "plt.show() # show the plot; *not needed in jupyter*"
   ]
  },
  {
   "cell_type": "markdown",
   "metadata": {},
   "source": [
    "To save plots, you first want to make sure that the size\n",
    "of the figure is correct. The default units are in inches.\n",
    "\n",
    "Note: the bbox_inches settings below controls the bounding box size. 'tight' ensures the least amount of whitespace\n",
    "\n",
    "Here's an example:\n"
   ]
  },
  {
   "cell_type": "code",
   "execution_count": 57,
   "metadata": {},
   "outputs": [
    {
     "data": {
      "image/png": "[encoded data removed]",
      "text/plain": [
       "<Figure size 288x216 with 1 Axes>"
      ]
     },
     "metadata": {
      "needs_background": "light"
     },
     "output_type": "display_data"
    }
   ],
   "source": [
    "# plot sin(pi*x) over [0,2]\n",
    "x = np.linspace(0, 2, 101)\n",
    "y = np.sin(np.pi*x)\n",
    "\n",
    "plt.figure(1, figsize = (4,3)) #5x4 inches \n",
    "plt.plot(x, y, '-k') \n",
    "plt.xlabel('x')\n",
    "plt.ylabel('$\\sin x$')\n",
    "plt.savefig('test.pdf', bbox_inches='tight')\n",
    "#^(change extension for other formats)"
   ]
  }
 ],
 "metadata": {
  "kernelspec": {
   "display_name": "Python 3",
   "language": "python",
   "name": "python3"
  },
  "language_info": {
   "codemirror_mode": {
    "name": "ipython",
    "version": 3
   },
   "file_extension": ".py",
   "mimetype": "text/x-python",
   "name": "python",
   "nbconvert_exporter": "python",
   "pygments_lexer": "ipython3",
   "version": "3.8.3"
  }
 },
 "nbformat": 4,
 "nbformat_minor": 4
}
